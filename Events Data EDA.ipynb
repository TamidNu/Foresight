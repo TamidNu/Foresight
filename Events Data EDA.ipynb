{
 "cells": [
  {
   "cell_type": "code",
   "execution_count": null,
   "id": "504f4d10",
   "metadata": {},
   "outputs": [],
   "source": [
    "import pandas as pd\n",
    "import matplotlib.pyplot as plt\n",
    "import seaborn as sns\n",
    "import numpy as np\n",
    "import requests\n",
    "\n",
    "url = \"https://failteireland.azure-api.net/opendata-api/v2/events\"\n",
    "hdr = {\"Ocp-Apim-Subscription-Key\": \"API_KEY\"}\n",
    "\n",
    "# Query params for Jan 2023 - Mar 2024\n",
    "params = {\n",
    "    \"startDate\": \"2023-01-01\",\n",
    "    \"endDate\": \"2024-03-31\",\n",
    "    \"top\": 100,     # adjust as needed\n",
    "    \"skip\": 0\n",
    "}\n",
    "\n",
    "all_events = []\n",
    "\n",
    "while True:\n",
    "    response = requests.get(url, headers=headers, params=params)\n",
    "    data = response.json()\n",
    "    \n",
    "    if \"value\" not in data or len(data[\"value\"]) == 0:\n",
    "        break\n",
    "    \n",
    "    all_events.extend(data[\"value\"])\n",
    "    \n",
    "    params[\"skip\"] += params[\"top\"]\n",
    "\n",
    "# Convert to DataFrame\n",
    "df_events = pd.DataFrame(all_events)\n",
    "\n",
    "print(f\"Retrieved {len(df_events)} events\")\n",
    "df_events.head()"
   ]
  }
 ],
 "metadata": {
  "kernelspec": {
   "display_name": "ds",
   "language": "python",
   "name": "python3"
  },
  "language_info": {
   "codemirror_mode": {
    "name": "ipython",
    "version": 3
   },
   "file_extension": ".py",
   "mimetype": "text/x-python",
   "name": "python",
   "nbconvert_exporter": "python",
   "pygments_lexer": "ipython3",
   "version": "3.11.13"
  }
 },
 "nbformat": 4,
 "nbformat_minor": 5
}
