{
 "cells": [
  {
   "cell_type": "code",
   "execution_count": 12,
   "id": "504f4d10",
   "metadata": {},
   "outputs": [],
   "source": [
    "import pandas as pd\n",
    "import matplotlib.pyplot as plt\n",
    "import seaborn as sns\n",
    "import numpy as np\n",
    "\n",
    "url = \"https://failteireland.azure-api.net/opendata-api/v2/events\"\n",
    "hdr = {'Cache-Control': 'no-cache'}\n",
    "req = urllib.request.Request(url, headers=hdr)\n",
    "req.get_method = lambda: 'GET'"
   ]
  }
 ],
 "metadata": {
  "kernelspec": {
   "display_name": "ds",
   "language": "python",
   "name": "python3"
  },
  "language_info": {
   "codemirror_mode": {
    "name": "ipython",
    "version": 3
   },
   "file_extension": ".py",
   "mimetype": "text/x-python",
   "name": "python",
   "nbconvert_exporter": "python",
   "pygments_lexer": "ipython3",
   "version": "3.11.13"
  }
 },
 "nbformat": 4,
 "nbformat_minor": 5
}
